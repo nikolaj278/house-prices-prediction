{
 "cells": [
  {
   "cell_type": "code",
   "execution_count": 2,
   "metadata": {
    "execution": {
     "iopub.execute_input": "2025-07-22T11:49:27.873215Z",
     "iopub.status.busy": "2025-07-22T11:49:27.872557Z",
     "iopub.status.idle": "2025-07-22T11:49:30.028385Z",
     "shell.execute_reply": "2025-07-22T11:49:30.027648Z",
     "shell.execute_reply.started": "2025-07-22T11:49:27.873186Z"
    }
   },
   "outputs": [],
   "source": [
    "import numpy as np\n",
    "import pandas as pd"
   ]
  },
  {
   "cell_type": "code",
   "execution_count": 3,
   "metadata": {
    "execution": {
     "iopub.execute_input": "2025-07-22T11:49:30.029884Z",
     "iopub.status.busy": "2025-07-22T11:49:30.029503Z",
     "iopub.status.idle": "2025-07-22T11:49:30.033821Z",
     "shell.execute_reply": "2025-07-22T11:49:30.033170Z",
     "shell.execute_reply.started": "2025-07-22T11:49:30.029857Z"
    }
   },
   "outputs": [],
   "source": [
    "PATH = '~/house-prices-prediction/data/'"
   ]
  },
  {
   "cell_type": "code",
   "execution_count": 4,
   "metadata": {
    "execution": {
     "iopub.execute_input": "2025-07-22T11:49:30.035302Z",
     "iopub.status.busy": "2025-07-22T11:49:30.034983Z",
     "iopub.status.idle": "2025-07-22T11:49:30.148673Z",
     "shell.execute_reply": "2025-07-22T11:49:30.147823Z",
     "shell.execute_reply.started": "2025-07-22T11:49:30.035273Z"
    }
   },
   "outputs": [
    {
     "data": {
      "text/plain": [
       "((1460, 80), (1459, 79))"
      ]
     },
     "execution_count": 4,
     "metadata": {},
     "output_type": "execute_result"
    }
   ],
   "source": [
    "data = pd.read_csv(PATH + 'train.csv', index_col='Id')\n",
    "data.shape"
   ]
  },
  {
   "cell_type": "markdown",
   "metadata": {},
   "source": [
    "### Substitute missing values"
   ]
  },
  {
   "cell_type": "code",
   "execution_count": 5,
   "metadata": {
    "execution": {
     "iopub.execute_input": "2025-07-22T11:49:31.246772Z",
     "iopub.status.busy": "2025-07-22T11:49:31.246075Z",
     "iopub.status.idle": "2025-07-22T11:49:31.255692Z",
     "shell.execute_reply": "2025-07-22T11:49:31.254728Z",
     "shell.execute_reply.started": "2025-07-22T11:49:31.246734Z"
    }
   },
   "outputs": [],
   "source": [
    "def sub_null(df):\n",
    "    # Identify columns with missing values\n",
    "    cols_with_nulls = [c for c in df.columns if df[c].isnull().sum() > 0]\n",
    "    \n",
    "    # Fill missing values in categorical columns with 'missing'\n",
    "    str_cols_with_nulls = df[cols_with_nulls].select_dtypes(include=['object', 'category']).columns\n",
    "    df.fillna({column: 'missing' for column in str_cols_with_nulls}, inplace=True)\n",
    "    \n",
    "    # Fill missing values in numeric columns with mean (except GarageYrBlt)\n",
    "    df.fillna({'LotFrontage': df['LotFrontage'].mean(),\n",
    "               'MasVnrArea': df['MasVnrArea'].mean()}, inplace=True)\n",
    "    \n",
    "    # For GarageYrBlt, null means \"no garage\"\n",
    "    # Create HasGarage binary feature: 1 if GarageYrBlt present, 0 if null\n",
    "    df['HasGarage'] = df['GarageYrBlt'].notnull().astype(int)\n",
    "    \n",
    "    # Fill missing GarageYrBlt with 0 for rows with no garage\n",
    "    df.fillna({'GarageYrBlt': 0}, inplace=True)\n",
    "    \n",
    "    return df\n",
    "\n"
   ]
  },
  {
   "cell_type": "code",
   "execution_count": 6,
   "metadata": {
    "execution": {
     "iopub.execute_input": "2025-07-22T11:49:34.423218Z",
     "iopub.status.busy": "2025-07-22T11:49:34.422471Z",
     "iopub.status.idle": "2025-07-22T11:49:34.479930Z",
     "shell.execute_reply": "2025-07-22T11:49:34.479047Z",
     "shell.execute_reply.started": "2025-07-22T11:49:34.423191Z"
    }
   },
   "outputs": [],
   "source": [
    "data = sub_null(data)"
   ]
  },
  {
   "cell_type": "code",
   "execution_count": 7,
   "metadata": {
    "execution": {
     "iopub.execute_input": "2025-07-22T11:49:36.613000Z",
     "iopub.status.busy": "2025-07-22T11:49:36.612408Z",
     "iopub.status.idle": "2025-07-22T11:49:36.618229Z",
     "shell.execute_reply": "2025-07-22T11:49:36.617612Z",
     "shell.execute_reply.started": "2025-07-22T11:49:36.612977Z"
    }
   },
   "outputs": [
    {
     "data": {
      "text/plain": [
       "((1460, 81), (1459, 80))"
      ]
     },
     "execution_count": 7,
     "metadata": {},
     "output_type": "execute_result"
    }
   ],
   "source": [
    "data.shape"
   ]
  },
  {
   "cell_type": "code",
   "execution_count": 1,
   "metadata": {},
   "outputs": [
    {
     "ename": "NameError",
     "evalue": "name 'data' is not defined",
     "output_type": "error",
     "traceback": [
      "\u001b[0;31m---------------------------------------------------------------------------\u001b[0m",
      "\u001b[0;31mNameError\u001b[0m                                 Traceback (most recent call last)",
      "Cell \u001b[0;32mIn[1], line 1\u001b[0m\n\u001b[0;32m----> 1\u001b[0m \u001b[43mdata\u001b[49m\u001b[38;5;241m.\u001b[39minfo()\n",
      "\u001b[0;31mNameError\u001b[0m: name 'data' is not defined"
     ]
    }
   ],
   "source": [
    "data.info()"
   ]
  },
  {
   "cell_type": "code",
   "execution_count": null,
   "metadata": {},
   "outputs": [],
   "source": []
  },
  {
   "cell_type": "code",
   "execution_count": null,
   "metadata": {},
   "outputs": [],
   "source": [
    "\n"
   ]
  }
 ],
 "metadata": {
  "kaggle": {
   "accelerator": "none",
   "dataSources": [
    {
     "databundleVersionId": 868283,
     "sourceId": 5407,
     "sourceType": "competition"
    }
   ],
   "dockerImageVersionId": 31089,
   "isGpuEnabled": false,
   "isInternetEnabled": true,
   "language": "python",
   "sourceType": "notebook"
  },
  "kernelspec": {
   "display_name": "Python 3 (ipykernel)",
   "language": "python",
   "name": "python3"
  },
  "language_info": {
   "codemirror_mode": {
    "name": "ipython",
    "version": 3
   },
   "file_extension": ".py",
   "mimetype": "text/x-python",
   "name": "python",
   "nbconvert_exporter": "python",
   "pygments_lexer": "ipython3",
   "version": "3.10.18"
  }
 },
 "nbformat": 4,
 "nbformat_minor": 4
}
